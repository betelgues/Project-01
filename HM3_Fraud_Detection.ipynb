{
  "nbformat": 4,
  "nbformat_minor": 0,
  "metadata": {
    "colab": {
      "name": "HM3 - Fraud Detection.ipynb",
      "version": "0.3.2",
      "provenance": [],
      "include_colab_link": true
    },
    "kernelspec": {
      "name": "python3",
      "display_name": "Python 3"
    }
  },
  "cells": [
    {
      "cell_type": "markdown",
      "metadata": {
        "id": "view-in-github",
        "colab_type": "text"
      },
      "source": [
        "<a href=\"https://colab.research.google.com/github/betelgues/Project-01/blob/master/HM3_Fraud_Detection.ipynb\" target=\"_parent\"><img src=\"https://colab.research.google.com/assets/colab-badge.svg\" alt=\"Open In Colab\"/></a>"
      ]
    },
    {
      "cell_type": "code",
      "metadata": {
        "id": "D9wBmrCYkGRd",
        "colab_type": "code",
        "colab": {}
      },
      "source": [
        "import numpy as np\n",
        "import sklearn as sk\n",
        "import pandas as pd\n",
        "import matplotlib.pyplot as plt\n",
        "from sklearn.preprocessing import scale\n",
        "import random\n",
        "import seaborn as sns\n",
        "%matplotlib inline\n",
        "\n"
      ],
      "execution_count": 0,
      "outputs": []
    },
    {
      "cell_type": "code",
      "metadata": {
        "id": "gJJVlWCskSJi",
        "colab_type": "code",
        "colab": {
          "base_uri": "https://localhost:8080/",
          "height": 264
        },
        "outputId": "cb968366-8ba9-4a95-f9e7-e462644d00a3"
      },
      "source": [
        "df = pd.read_csv('creditcard.csv', low_memory=False)\n",
        "df = df.sample(frac=1).reset_index(drop=True)\n",
        "df.head()"
      ],
      "execution_count": 46,
      "outputs": [
        {
          "output_type": "execute_result",
          "data": {
            "text/html": [
              "<div>\n",
              "<style scoped>\n",
              "    .dataframe tbody tr th:only-of-type {\n",
              "        vertical-align: middle;\n",
              "    }\n",
              "\n",
              "    .dataframe tbody tr th {\n",
              "        vertical-align: top;\n",
              "    }\n",
              "\n",
              "    .dataframe thead th {\n",
              "        text-align: right;\n",
              "    }\n",
              "</style>\n",
              "<table border=\"1\" class=\"dataframe\">\n",
              "  <thead>\n",
              "    <tr style=\"text-align: right;\">\n",
              "      <th></th>\n",
              "      <th>Time</th>\n",
              "      <th>V1</th>\n",
              "      <th>V2</th>\n",
              "      <th>V3</th>\n",
              "      <th>V4</th>\n",
              "      <th>V5</th>\n",
              "      <th>V6</th>\n",
              "      <th>V7</th>\n",
              "      <th>V8</th>\n",
              "      <th>V9</th>\n",
              "      <th>V10</th>\n",
              "      <th>V11</th>\n",
              "      <th>V12</th>\n",
              "      <th>V13</th>\n",
              "      <th>V14</th>\n",
              "      <th>V15</th>\n",
              "      <th>V16</th>\n",
              "      <th>V17</th>\n",
              "      <th>V18</th>\n",
              "      <th>V19</th>\n",
              "      <th>V20</th>\n",
              "      <th>V21</th>\n",
              "      <th>V22</th>\n",
              "      <th>V23</th>\n",
              "      <th>V24</th>\n",
              "      <th>V25</th>\n",
              "      <th>V26</th>\n",
              "      <th>V27</th>\n",
              "      <th>V28</th>\n",
              "      <th>Amount</th>\n",
              "      <th>Class</th>\n",
              "    </tr>\n",
              "  </thead>\n",
              "  <tbody>\n",
              "    <tr>\n",
              "      <th>0</th>\n",
              "      <td>60163.0</td>\n",
              "      <td>-1.170344</td>\n",
              "      <td>0.517785</td>\n",
              "      <td>-0.278794</td>\n",
              "      <td>0.144289</td>\n",
              "      <td>2.034021</td>\n",
              "      <td>3.768300</td>\n",
              "      <td>0.137814</td>\n",
              "      <td>1.295612</td>\n",
              "      <td>-1.220339</td>\n",
              "      <td>-0.510180</td>\n",
              "      <td>-0.388398</td>\n",
              "      <td>-0.277080</td>\n",
              "      <td>0.091251</td>\n",
              "      <td>0.778874</td>\n",
              "      <td>1.510410</td>\n",
              "      <td>0.129715</td>\n",
              "      <td>-0.391838</td>\n",
              "      <td>0.772896</td>\n",
              "      <td>1.048677</td>\n",
              "      <td>0.478459</td>\n",
              "      <td>0.224304</td>\n",
              "      <td>0.060639</td>\n",
              "      <td>-0.045208</td>\n",
              "      <td>1.002671</td>\n",
              "      <td>0.696296</td>\n",
              "      <td>-0.089698</td>\n",
              "      <td>-0.080539</td>\n",
              "      <td>-0.021492</td>\n",
              "      <td>144.00</td>\n",
              "      <td>0</td>\n",
              "    </tr>\n",
              "    <tr>\n",
              "      <th>1</th>\n",
              "      <td>67315.0</td>\n",
              "      <td>-0.495970</td>\n",
              "      <td>0.841087</td>\n",
              "      <td>1.592762</td>\n",
              "      <td>0.931931</td>\n",
              "      <td>0.357694</td>\n",
              "      <td>-0.783968</td>\n",
              "      <td>0.678686</td>\n",
              "      <td>-0.177003</td>\n",
              "      <td>-0.822295</td>\n",
              "      <td>-0.300593</td>\n",
              "      <td>-0.262349</td>\n",
              "      <td>0.631398</td>\n",
              "      <td>1.440270</td>\n",
              "      <td>0.024696</td>\n",
              "      <td>1.002063</td>\n",
              "      <td>-0.269043</td>\n",
              "      <td>-0.300217</td>\n",
              "      <td>-0.056141</td>\n",
              "      <td>0.439396</td>\n",
              "      <td>0.208119</td>\n",
              "      <td>0.109811</td>\n",
              "      <td>0.298087</td>\n",
              "      <td>-0.056882</td>\n",
              "      <td>0.413925</td>\n",
              "      <td>-0.177359</td>\n",
              "      <td>-0.421513</td>\n",
              "      <td>0.154566</td>\n",
              "      <td>0.160548</td>\n",
              "      <td>24.00</td>\n",
              "      <td>0</td>\n",
              "    </tr>\n",
              "    <tr>\n",
              "      <th>2</th>\n",
              "      <td>10154.0</td>\n",
              "      <td>-1.390725</td>\n",
              "      <td>1.063997</td>\n",
              "      <td>1.738493</td>\n",
              "      <td>-1.274038</td>\n",
              "      <td>-0.184265</td>\n",
              "      <td>-0.869527</td>\n",
              "      <td>0.602665</td>\n",
              "      <td>-0.175393</td>\n",
              "      <td>1.797487</td>\n",
              "      <td>0.222559</td>\n",
              "      <td>2.433671</td>\n",
              "      <td>-2.096193</td>\n",
              "      <td>1.049518</td>\n",
              "      <td>1.257486</td>\n",
              "      <td>-0.803031</td>\n",
              "      <td>0.598644</td>\n",
              "      <td>-0.229719</td>\n",
              "      <td>0.333784</td>\n",
              "      <td>-0.754623</td>\n",
              "      <td>0.390443</td>\n",
              "      <td>-0.331212</td>\n",
              "      <td>-0.303639</td>\n",
              "      <td>-0.022246</td>\n",
              "      <td>0.487255</td>\n",
              "      <td>-0.295745</td>\n",
              "      <td>0.638490</td>\n",
              "      <td>0.361530</td>\n",
              "      <td>0.202709</td>\n",
              "      <td>26.19</td>\n",
              "      <td>0</td>\n",
              "    </tr>\n",
              "    <tr>\n",
              "      <th>3</th>\n",
              "      <td>141858.0</td>\n",
              "      <td>-0.040544</td>\n",
              "      <td>1.363889</td>\n",
              "      <td>-0.486340</td>\n",
              "      <td>1.392763</td>\n",
              "      <td>1.019180</td>\n",
              "      <td>-0.342814</td>\n",
              "      <td>0.964368</td>\n",
              "      <td>-0.297680</td>\n",
              "      <td>-0.545902</td>\n",
              "      <td>-1.019081</td>\n",
              "      <td>-0.028456</td>\n",
              "      <td>0.422077</td>\n",
              "      <td>1.589300</td>\n",
              "      <td>-2.374907</td>\n",
              "      <td>0.919175</td>\n",
              "      <td>-1.107023</td>\n",
              "      <td>2.502126</td>\n",
              "      <td>0.789286</td>\n",
              "      <td>2.663799</td>\n",
              "      <td>0.386013</td>\n",
              "      <td>-0.043975</td>\n",
              "      <td>0.234226</td>\n",
              "      <td>-0.200695</td>\n",
              "      <td>0.639424</td>\n",
              "      <td>-0.283403</td>\n",
              "      <td>0.052445</td>\n",
              "      <td>0.136314</td>\n",
              "      <td>0.253751</td>\n",
              "      <td>40.00</td>\n",
              "      <td>0</td>\n",
              "    </tr>\n",
              "    <tr>\n",
              "      <th>4</th>\n",
              "      <td>154513.0</td>\n",
              "      <td>1.971593</td>\n",
              "      <td>-2.196471</td>\n",
              "      <td>-1.859626</td>\n",
              "      <td>-2.484333</td>\n",
              "      <td>0.608767</td>\n",
              "      <td>3.803912</td>\n",
              "      <td>-1.894055</td>\n",
              "      <td>0.944594</td>\n",
              "      <td>-1.085872</td>\n",
              "      <td>1.462151</td>\n",
              "      <td>-0.186760</td>\n",
              "      <td>-0.622028</td>\n",
              "      <td>0.466348</td>\n",
              "      <td>-0.435835</td>\n",
              "      <td>0.511525</td>\n",
              "      <td>-0.274014</td>\n",
              "      <td>0.278804</td>\n",
              "      <td>-0.194884</td>\n",
              "      <td>-0.350544</td>\n",
              "      <td>-0.062481</td>\n",
              "      <td>-0.273515</td>\n",
              "      <td>-0.731252</td>\n",
              "      <td>0.360566</td>\n",
              "      <td>0.646713</td>\n",
              "      <td>-0.612962</td>\n",
              "      <td>-0.437248</td>\n",
              "      <td>0.035900</td>\n",
              "      <td>-0.015618</td>\n",
              "      <td>155.40</td>\n",
              "      <td>0</td>\n",
              "    </tr>\n",
              "  </tbody>\n",
              "</table>\n",
              "</div>"
            ],
            "text/plain": [
              "       Time        V1        V2        V3  ...       V27       V28  Amount  Class\n",
              "0   60163.0 -1.170344  0.517785 -0.278794  ... -0.080539 -0.021492  144.00      0\n",
              "1   67315.0 -0.495970  0.841087  1.592762  ...  0.154566  0.160548   24.00      0\n",
              "2   10154.0 -1.390725  1.063997  1.738493  ...  0.361530  0.202709   26.19      0\n",
              "3  141858.0 -0.040544  1.363889 -0.486340  ...  0.136314  0.253751   40.00      0\n",
              "4  154513.0  1.971593 -2.196471 -1.859626  ...  0.035900 -0.015618  155.40      0\n",
              "\n",
              "[5 rows x 31 columns]"
            ]
          },
          "metadata": {
            "tags": []
          },
          "execution_count": 46
        }
      ]
    },
    {
      "cell_type": "code",
      "metadata": {
        "id": "joFebb8vkw0k",
        "colab_type": "code",
        "colab": {
          "base_uri": "https://localhost:8080/",
          "height": 51
        },
        "outputId": "0f5469a2-b03d-47a0-9543-02f625fd81b0"
      },
      "source": [
        "fraud = df.loc[df['Class'] == 1]\n",
        "non_frauds = df.loc[df['Class'] == 0]\n",
        "print(len(fraud))\n",
        "print(len(non_frauds))\n",
        "\n"
      ],
      "execution_count": 48,
      "outputs": [
        {
          "output_type": "stream",
          "text": [
            "492\n",
            "284315\n"
          ],
          "name": "stdout"
        }
      ]
    },
    {
      "cell_type": "code",
      "metadata": {
        "id": "BRM7E1pRlFBD",
        "colab_type": "code",
        "colab": {
          "base_uri": "https://localhost:8080/",
          "height": 291
        },
        "outputId": "1d9343c3-a9ee-451b-b435-6eaa1b122eda"
      },
      "source": [
        "ax = fraud.plot.scatter(x='Amount',y='Class',color='Orange',label='Fraud')\n",
        "non_frauds.plot.scatter(x='Amount',y='Class',color='Blue',label='Normal', ax=ax)\n",
        "plt.show()\n",
        "\n"
      ],
      "execution_count": 49,
      "outputs": [
        {
          "output_type": "display_data",
          "data": {
            "image/png": "[encoded data removed]",
            "text/plain": [
              "<Figure size 432x288 with 1 Axes>"
            ]
          },
          "metadata": {
            "tags": []
          }
        }
      ]
    },
    {
      "cell_type": "markdown",
      "metadata": {
        "id": "TwbThqNPmNki",
        "colab_type": "text"
      },
      "source": [
        "Logistc Regression"
      ]
    },
    {
      "cell_type": "code",
      "metadata": {
        "id": "XEhCsU0Hc4XD",
        "colab_type": "code",
        "colab": {
          "base_uri": "https://localhost:8080/",
          "height": 386
        },
        "outputId": "b3d95f75-8112-4d12-d43f-d94872655900"
      },
      "source": [
        "#tips = sns.load_dataset('tips')\n",
        "#tips.head()\n",
        "\n",
        "#sns.boxplot(x=df['Amount'])\n",
        "\n",
        "\n",
        "sns.lmplot(x='Amount', y='Class', data=df)"
      ],
      "execution_count": 74,
      "outputs": [
        {
          "output_type": "execute_result",
          "data": {
            "text/plain": [
              "<seaborn.axisgrid.FacetGrid at 0x7f6bf5ed4da0>"
            ]
          },
          "metadata": {
            "tags": []
          },
          "execution_count": 74
        },
        {
          "output_type": "display_data",
          "data": {
            "image/png": "[encoded data removed]",
            "text/plain": [
              "<Figure size 360x360 with 1 Axes>"
            ]
          },
          "metadata": {
            "tags": []
          }
        }
      ]
    },
    {
      "cell_type": "code",
      "metadata": {
        "id": "xayd_ivGhM5U",
        "colab_type": "code",
        "colab": {
          "base_uri": "https://localhost:8080/",
          "height": 308
        },
        "outputId": "22f288a9-4c96-4574-fba1-c72b200b3db4"
      },
      "source": [
        "sns.scatterplot(x='Amount', y='Class', data=df, color='Pink')"
      ],
      "execution_count": 78,
      "outputs": [
        {
          "output_type": "execute_result",
          "data": {
            "text/plain": [
              "<matplotlib.axes._subplots.AxesSubplot at 0x7f6bf5cb2320>"
            ]
          },
          "metadata": {
            "tags": []
          },
          "execution_count": 78
        },
        {
          "output_type": "display_data",
          "data": {
            "image/png": "[encoded data removed]",
            "text/plain": [
              "<Figure size 432x288 with 1 Axes>"
            ]
          },
          "metadata": {
            "tags": []
          }
        }
      ]
    },
    {
      "cell_type": "code",
      "metadata": {
        "id": "6U4zDcduiSF1",
        "colab_type": "code",
        "colab": {
          "base_uri": "https://localhost:8080/",
          "height": 458
        },
        "outputId": "efb0ff42-d0f6-4267-ea14-d70bcf60f1c2"
      },
      "source": [
        "sns.jointplot(x='Amount', y='Class', data=df, kind='hex')"
      ],
      "execution_count": 68,
      "outputs": [
        {
          "output_type": "execute_result",
          "data": {
            "text/plain": [
              "<seaborn.axisgrid.JointGrid at 0x7f6bf6103748>"
            ]
          },
          "metadata": {
            "tags": []
          },
          "execution_count": 68
        },
        {
          "output_type": "display_data",
          "data": {
            "image/png": "[encoded data removed]",
            "text/plain": [
              "<Figure size 432x432 with 3 Axes>"
            ]
          },
          "metadata": {
            "tags": []
          }
        }
      ]
    },
    {
      "cell_type": "code",
      "metadata": {
        "id": "u0mu5E85i1EW",
        "colab_type": "code",
        "colab": {
          "base_uri": "https://localhost:8080/",
          "height": 386
        },
        "outputId": "d2b15734-b9ea-4daf-c704-c717b675006a"
      },
      "source": [
        "sns.relplot(x=\"Amount\", y=\"Class\", data=df, color='Green')"
      ],
      "execution_count": 77,
      "outputs": [
        {
          "output_type": "execute_result",
          "data": {
            "text/plain": [
              "<seaborn.axisgrid.FacetGrid at 0x7f6bf5e995c0>"
            ]
          },
          "metadata": {
            "tags": []
          },
          "execution_count": 77
        },
        {
          "output_type": "display_data",
          "data": {
            "image/png": "[encoded data removed]",
            "text/plain": [
              "<Figure size 360x360 with 1 Axes>"
            ]
          },
          "metadata": {
            "tags": []
          }
        }
      ]
    },
    {
      "cell_type": "code",
      "metadata": {
        "id": "lAOp2CPCmGXj",
        "colab_type": "code",
        "colab": {}
      },
      "source": [
        "from sklearn import linear_model\n",
        "from sklearn.model_selection import train_test_split\n",
        "\n",
        "\n"
      ],
      "execution_count": 0,
      "outputs": []
    },
    {
      "cell_type": "code",
      "metadata": {
        "id": "8lNkXNGwnPHx",
        "colab_type": "code",
        "colab": {}
      },
      "source": [
        "x = df.iloc[:, :-1]\n",
        "y = df['Class']\n",
        "\n",
        "X_train, X_test, y_train, y_test = train_test_split(x, y, test_size=0.35) \n",
        "\n",
        "\n"
      ],
      "execution_count": 0,
      "outputs": []
    },
    {
      "cell_type": "code",
      "metadata": {
        "id": "CpAyQhuOnmnL",
        "colab_type": "code",
        "colab": {
          "base_uri": "https://localhost:8080/",
          "height": 111
        },
        "outputId": "5ff20ed0-1d5e-49ca-ed4b-ad661cac7722"
      },
      "source": [
        "logistic = linear_model.LogisticRegression(C=1e5)\n",
        "logistic.fit(X_train, y_train)\n",
        "print('Score:', logistic.score(X_test, y_test))\n",
        "\n",
        "\n"
      ],
      "execution_count": 55,
      "outputs": [
        {
          "output_type": "stream",
          "text": [
            "/usr/local/lib/python3.6/dist-packages/sklearn/linear_model/logistic.py:432: FutureWarning: Default solver will be changed to 'lbfgs' in 0.22. Specify a solver to silence this warning.\n",
            "  FutureWarning)\n"
          ],
          "name": "stderr"
        },
        {
          "output_type": "stream",
          "text": [
            "Score: 0.9987259612973125\n"
          ],
          "name": "stdout"
        }
      ]
    },
    {
      "cell_type": "code",
      "metadata": {
        "id": "6V-L2fdzoATW",
        "colab_type": "code",
        "colab": {
          "base_uri": "https://localhost:8080/",
          "height": 34
        },
        "outputId": "0434a7be-5b5e-4278-805b-bef973ce33cb"
      },
      "source": [
        "y_predicted = np.array(logistic.predict(X_test))\n",
        "print(y_predicted)"
      ],
      "execution_count": 54,
      "outputs": [
        {
          "output_type": "stream",
          "text": [
            "[0 0 0 ... 0 0 0]\n"
          ],
          "name": "stdout"
        }
      ]
    }
  ]
}